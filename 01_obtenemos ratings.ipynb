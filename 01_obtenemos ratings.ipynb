{
 "cells": [
  {
   "cell_type": "code",
   "execution_count": 1,
   "metadata": {},
   "outputs": [],
   "source": [
    "import polars as pl \n",
    "import pandas as pd \n",
    "import numpy as np \n",
    "import seaborn as sns\n",
    "import matplotlib.pyplot as plt\n",
    "from sklearn.preprocessing import KBinsDiscretizer\n",
    "from typing import Dict\n",
    "from datetime import date\n",
    "from sklearn.preprocessing import RobustScaler"
   ]
  },
  {
   "cell_type": "code",
   "execution_count": 2,
   "metadata": {},
   "outputs": [],
   "source": [
    "from config import RUTA_RENTABILIDAD_PROCESADO, RUTA_DATA_INTERIM, RUTA_CLIENTES_CLUSTERIZADOS"
   ]
  },
  {
   "cell_type": "code",
   "execution_count": 3,
   "metadata": {},
   "outputs": [],
   "source": [
    "RUTA_CLIENTES_PROCESADO = r\"C:\\Users\\DF357JZ\\EY\\INTERBANCO - INTERCONSUMO - PRICING - Interbanco_-_Pricing\\03. Relationship\\2.1 Analytics\\data\\02_interim\\\\\"+\"clientes_procesado.parquet\""
   ]
  },
  {
   "cell_type": "code",
   "execution_count": 4,
   "metadata": {},
   "outputs": [],
   "source": [
    "cluster = (\n",
    "    pl.scan_parquet(RUTA_CLIENTES_CLUSTERIZADOS)\n",
    "    .select(['AÑOMES_CORTE','ID_CLIENTE','CLUSTER'])\n",
    "    )"
   ]
  },
  {
   "cell_type": "markdown",
   "metadata": {},
   "source": [
    "Sectores que contienen el 80% de clientes"
   ]
  },
  {
   "cell_type": "code",
   "execution_count": 5,
   "metadata": {},
   "outputs": [],
   "source": [
    "lista_sectores_relevantes = (\n",
    "    pl.scan_parquet(RUTA_CLIENTES_PROCESADO)\n",
    "    .unique('ID_CLIENTE')\n",
    "    .group_by('SECTOR_ECONOMICO')\n",
    "    .len()\n",
    "    .sort('len',descending=True)\n",
    "    .with_columns(acum = (pl.col('len')/pl.col('len').sum()))\n",
    "    .with_columns(pl.col('acum').cum_sum())\n",
    "    .filter(pl.col('acum')<0.8)\n",
    "    .collect()\n",
    "    .get_column('SECTOR_ECONOMICO')\n",
    "    .to_list()\n",
    ")"
   ]
  },
  {
   "cell_type": "markdown",
   "metadata": {},
   "source": [
    "Base de clientes con variables sector y ubicacion"
   ]
  },
  {
   "cell_type": "code",
   "execution_count": 6,
   "metadata": {},
   "outputs": [],
   "source": [
    "variables_socioeconomicas = (\n",
    "    pl.scan_parquet(RUTA_CLIENTES_PROCESADO)\n",
    "    .select(['FECHA','ID_CLIENTE','SECTOR_ECONOMICO','AGENCIA_PRINCIPAL'])\n",
    "    .with_columns(pl.col('FECHA').dt.month_start())\n",
    "    .with_columns(\n",
    "        pl.when(\n",
    "            pl.col('AGENCIA_PRINCIPAL').str.contains('METRO') | \n",
    "            pl.col('AGENCIA_PRINCIPAL').str.contains('METROPOLITANA') |\n",
    "            pl.col('AGENCIA_PRINCIPAL').str.contains('PRINCIPAL') |\n",
    "            pl.col('AGENCIA_PRINCIPAL').str.contains('Principal') |\n",
    "            pl.col('AGENCIA_PRINCIPAL').str.contains('PYME') |\n",
    "            pl.col('AGENCIA_PRINCIPAL').str.contains('Pyme')\n",
    "        )\n",
    "        .then(pl.lit('Metropolitana'))\n",
    "        .otherwise(pl.lit('Rural'))\n",
    "        .alias('AGENCIA_PRINCIPAL')\n",
    "    )\n",
    "    .with_columns(\n",
    "        pl\n",
    "        .when(pl.col('SECTOR_ECONOMICO').is_in(lista_sectores_relevantes))\n",
    "        .then(pl.col('SECTOR_ECONOMICO'))\n",
    "        .otherwise(pl.lit('OTRO'))\n",
    "        .alias('SECTOR_ECONOMICO')\n",
    "        )\n",
    "    .rename({'FECHA':'AÑOMES_CORTE'})\n",
    "    .filter(pl.col('AÑOMES_CORTE')>=date(2024,1,1))\n",
    ")"
   ]
  },
  {
   "cell_type": "markdown",
   "metadata": {},
   "source": [
    "unificamos variables de cliente"
   ]
  },
  {
   "cell_type": "code",
   "execution_count": 7,
   "metadata": {},
   "outputs": [],
   "source": [
    "bases_cliente = (\n",
    "    variables_socioeconomicas\n",
    "    .join(cluster, on=['ID_CLIENTE','AÑOMES_CORTE'])\n",
    "    .collect()\n",
    ")"
   ]
  },
  {
   "cell_type": "markdown",
   "metadata": {},
   "source": [
    "Preparamos la base de datos"
   ]
  },
  {
   "cell_type": "code",
   "execution_count": 8,
   "metadata": {},
   "outputs": [],
   "source": [
    "df_rentabilidad = (\n",
    "    pl.scan_parquet(RUTA_RENTABILIDAD_PROCESADO)\n",
    "    .filter(pl.col('RUBRO').is_in(\n",
    "        [\n",
    "            'Costos Operacionales',\n",
    "            'Comisiones por Negocios',\n",
    "            'Sostenimiento',\n",
    "            'Costos Transaccionales'\n",
    "        ]\n",
    "    ).not_()\n",
    "    )\n",
    "    .sort(['RUBRO'])\n",
    "    .lazy()\n",
    ")"
   ]
  },
  {
   "cell_type": "code",
   "execution_count": 9,
   "metadata": {},
   "outputs": [],
   "source": [
    "df = (\n",
    "    df_rentabilidad\n",
    "    .group_by(['AÑOMES_CORTE','ID_CLIENTE','NRO_CUENTA','DESC_PRODUCTO','DESC_SUBPRODUCTO'])\n",
    "    .agg(pl.col('MONTO').sum())\n",
    "    .filter(pl.col('DESC_SUBPRODUCTO').is_not_null())\n",
    "    .sort(['AÑOMES_CORTE','ID_CLIENTE','NRO_CUENTA','DESC_PRODUCTO','DESC_SUBPRODUCTO'])\n",
    "    .lazy()\n",
    ")"
   ]
  },
  {
   "cell_type": "code",
   "execution_count": 10,
   "metadata": {},
   "outputs": [],
   "source": [
    "df_rentabilidad_promedio = (\n",
    "    df\n",
    "    .sort(['ID_CLIENTE','NRO_CUENTA','AÑOMES_CORTE'])\n",
    "    .group_by(['ID_CLIENTE','NRO_CUENTA','DESC_PRODUCTO'])\n",
    "    .agg(\n",
    "        pl.col('MONTO').mean()\n",
    "    )\n",
    "    .collect()\n",
    ")"
   ]
  },
  {
   "cell_type": "code",
   "execution_count": 52,
   "metadata": {},
   "outputs": [
    {
     "data": {
      "text/plain": [
       "array([1.45214331e+02, 1.19386043e+00, 1.85496300e+00, ...,\n",
       "       1.39058293e+00, 2.15884477e+03, 1.10249685e+00])"
      ]
     },
     "execution_count": 52,
     "metadata": {},
     "output_type": "execute_result"
    }
   ],
   "source": [
    "df_rentabilidad_promedio.filter(\n",
    "        pl.col('DESC_PRODUCTO')=='Disvisas'\n",
    "        ).get_column(\n",
    "            'MONTO'\n",
    "            ).to_numpy()"
   ]
  },
  {
   "cell_type": "code",
   "execution_count": 11,
   "metadata": {},
   "outputs": [],
   "source": [
    "# Dictionary to store KBinsDiscretizer for each product\n",
    "discretizers = {}"
   ]
  },
  {
   "cell_type": "code",
   "execution_count": 13,
   "metadata": {},
   "outputs": [],
   "source": [
    "# Create a copy of the datasets to avoid modifying the originals\n",
    "train_data = df_rentabilidad_promedio.clone()"
   ]
  },
  {
   "cell_type": "code",
   "execution_count": 14,
   "metadata": {},
   "outputs": [],
   "source": [
    "# Creamos lista de productos\n",
    "lista_de_productos = train_data.get_column('DESC_PRODUCTO').unique().to_list()"
   ]
  },
  {
   "cell_type": "code",
   "execution_count": 12,
   "metadata": {},
   "outputs": [],
   "source": [
    "def train_ratings(train_data):\n",
    "    for product in lista_de_productos:\n",
    "        product_data = train_data.filter(pl.col('DESC_PRODUCTO')==product)\n",
    "\n",
    "        # Filter positive values\n",
    "        positive_data = product_data.filter(pl.col('MONTO')>0).get_column('MONTO').to_numpy().reshape(-1,1)\n",
    "\n",
    "        if positive_data.size > 30:\n",
    "\n",
    "            discretizer = KBinsDiscretizer(n_bins=5,encode='ordinal',strategy='quantile')\n",
    "            discretizer.fit(positive_data)\n",
    "            discretizers[product] = discretizer\n",
    "\n",
    "    return discretizers"
   ]
  },
  {
   "cell_type": "code",
   "execution_count": 15,
   "metadata": {},
   "outputs": [],
   "source": [
    "def apply_ratings(discretizers: Dict, Producto: str, monto: float):\n",
    "\n",
    "    if Producto in list(discretizers.keys()):\n",
    "            \n",
    "        if monto > 0:\n",
    "\n",
    "            monto = np.array(monto).reshape(-1,1)\n",
    "\n",
    "            rating = (discretizers[Producto].transform(monto)) + 2\n",
    "\n",
    "        else:\n",
    "\n",
    "            rating = 1\n",
    "            \n",
    "    else:\n",
    "\n",
    "        rating = -1\n",
    "\n",
    "    return rating"
   ]
  },
  {
   "cell_type": "code",
   "execution_count": 16,
   "metadata": {},
   "outputs": [],
   "source": [
    "# Funcion para asignar ratings\n",
    "discretizers = train_ratings(train_data=train_data)"
   ]
  },
  {
   "cell_type": "code",
   "execution_count": 17,
   "metadata": {},
   "outputs": [],
   "source": [
    "train_data_discretize = (\n",
    "    train_data\n",
    "    .with_columns(\n",
    "        pl.struct(['DESC_PRODUCTO','MONTO'])\n",
    "        .map_elements(\n",
    "            lambda x: apply_ratings(\n",
    "                discretizers,\n",
    "                Producto=x['DESC_PRODUCTO'],\n",
    "                monto=x['MONTO'],\n",
    "                ),\n",
    "                return_dtype=pl.Float64,\n",
    "        )\n",
    "        .cast(int).alias('rating')\n",
    "    )\n",
    ")"
   ]
  },
  {
   "cell_type": "code",
   "execution_count": 18,
   "metadata": {},
   "outputs": [],
   "source": [
    "df_rating = (\n",
    "    train_data_discretize.drop('MONTO')\n",
    "    .join(\n",
    "        bases_cliente.filter(pl.col('AÑOMES_CORTE')==date(2024,8,1)).drop('AÑOMES_CORTE'),\n",
    "        on=['ID_CLIENTE'],\n",
    "        how='inner'\n",
    "    )\n",
    "    .select(['ID_CLIENTE','NRO_CUENTA','SECTOR_ECONOMICO','AGENCIA_PRINCIPAL','CLUSTER','DESC_PRODUCTO','rating'])\n",
    "    .rename({'DESC_PRODUCTO':'PRODUCTO','AGENCIA_PRINCIPAL':'REGION'})\n",
    ")"
   ]
  },
  {
   "cell_type": "markdown",
   "metadata": {},
   "source": [
    "# Obtenemos matriz cliente producto"
   ]
  },
  {
   "cell_type": "markdown",
   "metadata": {},
   "source": [
    "Obtenemos matriz de cliente producto con ratings"
   ]
  },
  {
   "cell_type": "code",
   "execution_count": 19,
   "metadata": {},
   "outputs": [
    {
     "data": {
      "text/html": [
       "<div><style>\n",
       ".dataframe > thead > tr,\n",
       ".dataframe > tbody > tr {\n",
       "  text-align: right;\n",
       "  white-space: pre-wrap;\n",
       "}\n",
       "</style>\n",
       "<small>shape: (5, 43)</small><table border=\"1\" class=\"dataframe\"><thead><tr><th>ID_CLIENTE</th><th>Monetarios Plus Quetzales</th><th>Disvisas</th><th>Planes de Pago</th><th>Quetzales</th><th>Depósitos Monetarios Dólares</th><th>Ahorro Rendimiento Quetzales</th><th>Depósitos Monetarios Quetzales</th><th>Monetarios Preferencial Dólares</th><th>Doc. Descontados</th><th>Ahorro Corriente Quetzales</th><th>Cuentas Corrientes</th><th>Ahorro Rendimiento Dólares</th><th>InterDía Quetzales</th><th>Ahorro Euros</th><th>Ahorro Virtual Quetzales</th><th>InterAuto</th><th>InterSorteo Quetzales</th><th>InterFuturo Quetzales</th><th>Ahorro Corriente Dólares</th><th>Cobranza</th><th>Ahorro Preferencial Dólares</th><th>Visa Banco Internacional</th><th>InterDía Dólares</th><th>Plazo Fijo Quetzales</th><th>Inversión Creciente Quetzales</th><th>InterMoneda Quetzales</th><th>InterCasa</th><th>InterMoneda Dólares</th><th>Dólares</th><th>Financiamiento de Importación</th><th>Cuenta Concentradora Quetzales</th><th>InterPréstamo</th><th>Plazo Fijo Dólares</th><th>Sobregiros</th><th>Inversión Creciente Dólares</th><th>Cuenta InterNómina Quetzales</th><th>FHA</th><th>Cuenta Monedero Quetzales</th><th>Bonos Hipotecarios</th><th>Cartas de Crédito de Exportación</th><th>Cartas de Crédito de Importación</th><th>Cartas de Crédito Stand By</th></tr><tr><td>str</td><td>i64</td><td>i64</td><td>i64</td><td>i64</td><td>i64</td><td>i64</td><td>i64</td><td>i64</td><td>i64</td><td>i64</td><td>i64</td><td>i64</td><td>i64</td><td>i64</td><td>i64</td><td>i64</td><td>i64</td><td>i64</td><td>i64</td><td>i64</td><td>i64</td><td>i64</td><td>i64</td><td>i64</td><td>i64</td><td>i64</td><td>i64</td><td>i64</td><td>i64</td><td>i64</td><td>i64</td><td>i64</td><td>i64</td><td>i64</td><td>i64</td><td>i64</td><td>i64</td><td>i64</td><td>i64</td><td>i64</td><td>i64</td><td>i64</td></tr></thead><tbody><tr><td>&quot;401695&quot;</td><td>6</td><td>null</td><td>null</td><td>null</td><td>null</td><td>null</td><td>null</td><td>null</td><td>null</td><td>null</td><td>2</td><td>null</td><td>null</td><td>null</td><td>null</td><td>null</td><td>null</td><td>null</td><td>null</td><td>null</td><td>null</td><td>null</td><td>null</td><td>null</td><td>null</td><td>null</td><td>null</td><td>null</td><td>null</td><td>null</td><td>null</td><td>null</td><td>null</td><td>null</td><td>null</td><td>null</td><td>null</td><td>null</td><td>null</td><td>null</td><td>null</td><td>null</td></tr><tr><td>&quot;564160&quot;</td><td>5</td><td>6</td><td>2</td><td>null</td><td>null</td><td>null</td><td>null</td><td>6</td><td>null</td><td>null</td><td>null</td><td>null</td><td>null</td><td>null</td><td>null</td><td>null</td><td>null</td><td>null</td><td>null</td><td>null</td><td>null</td><td>null</td><td>null</td><td>null</td><td>null</td><td>null</td><td>null</td><td>null</td><td>null</td><td>null</td><td>null</td><td>null</td><td>null</td><td>null</td><td>null</td><td>null</td><td>null</td><td>null</td><td>null</td><td>null</td><td>null</td><td>null</td></tr><tr><td>&quot;563528&quot;</td><td>2</td><td>6</td><td>2</td><td>null</td><td>null</td><td>null</td><td>null</td><td>null</td><td>null</td><td>null</td><td>null</td><td>null</td><td>null</td><td>null</td><td>null</td><td>null</td><td>null</td><td>null</td><td>null</td><td>null</td><td>null</td><td>null</td><td>null</td><td>null</td><td>null</td><td>null</td><td>null</td><td>null</td><td>null</td><td>null</td><td>null</td><td>null</td><td>null</td><td>null</td><td>null</td><td>null</td><td>null</td><td>null</td><td>null</td><td>null</td><td>null</td><td>null</td></tr><tr><td>&quot;226274&quot;</td><td>4</td><td>3</td><td>null</td><td>null</td><td>null</td><td>null</td><td>null</td><td>null</td><td>null</td><td>null</td><td>null</td><td>null</td><td>null</td><td>null</td><td>null</td><td>null</td><td>null</td><td>null</td><td>null</td><td>null</td><td>null</td><td>null</td><td>null</td><td>null</td><td>null</td><td>null</td><td>null</td><td>3</td><td>null</td><td>null</td><td>null</td><td>null</td><td>null</td><td>null</td><td>null</td><td>null</td><td>null</td><td>null</td><td>null</td><td>null</td><td>null</td><td>null</td></tr><tr><td>&quot;408694&quot;</td><td>5</td><td>6</td><td>null</td><td>null</td><td>null</td><td>null</td><td>null</td><td>null</td><td>null</td><td>4</td><td>null</td><td>null</td><td>null</td><td>null</td><td>null</td><td>null</td><td>null</td><td>null</td><td>6</td><td>null</td><td>null</td><td>null</td><td>null</td><td>null</td><td>null</td><td>null</td><td>null</td><td>null</td><td>null</td><td>null</td><td>null</td><td>null</td><td>null</td><td>null</td><td>null</td><td>null</td><td>null</td><td>null</td><td>null</td><td>null</td><td>null</td><td>null</td></tr></tbody></table></div>"
      ],
      "text/plain": [
       "shape: (5, 43)\n",
       "┌───────────┬───────────┬──────────┬───────────┬───┬───────────┬───────────┬───────────┬───────────┐\n",
       "│ ID_CLIENT ┆ Monetario ┆ Disvisas ┆ Planes de ┆ … ┆ Bonos Hip ┆ Cartas de ┆ Cartas de ┆ Cartas de │\n",
       "│ E         ┆ s Plus    ┆ ---      ┆ Pago      ┆   ┆ otecarios ┆ Crédito   ┆ Crédito   ┆ Crédito   │\n",
       "│ ---       ┆ Quetzales ┆ i64      ┆ ---       ┆   ┆ ---       ┆ de Export ┆ de Import ┆ Stand By  │\n",
       "│ str       ┆ ---       ┆          ┆ i64       ┆   ┆ i64       ┆ aci…      ┆ aci…      ┆ ---       │\n",
       "│           ┆ i64       ┆          ┆           ┆   ┆           ┆ ---       ┆ ---       ┆ i64       │\n",
       "│           ┆           ┆          ┆           ┆   ┆           ┆ i64       ┆ i64       ┆           │\n",
       "╞═══════════╪═══════════╪══════════╪═══════════╪═══╪═══════════╪═══════════╪═══════════╪═══════════╡\n",
       "│ 401695    ┆ 6         ┆ null     ┆ null      ┆ … ┆ null      ┆ null      ┆ null      ┆ null      │\n",
       "│ 564160    ┆ 5         ┆ 6        ┆ 2         ┆ … ┆ null      ┆ null      ┆ null      ┆ null      │\n",
       "│ 563528    ┆ 2         ┆ 6        ┆ 2         ┆ … ┆ null      ┆ null      ┆ null      ┆ null      │\n",
       "│ 226274    ┆ 4         ┆ 3        ┆ null      ┆ … ┆ null      ┆ null      ┆ null      ┆ null      │\n",
       "│ 408694    ┆ 5         ┆ 6        ┆ null      ┆ … ┆ null      ┆ null      ┆ null      ┆ null      │\n",
       "└───────────┴───────────┴──────────┴───────────┴───┴───────────┴───────────┴───────────┴───────────┘"
      ]
     },
     "execution_count": 19,
     "metadata": {},
     "output_type": "execute_result"
    }
   ],
   "source": [
    "cliente_producto_ratings = (\n",
    "    df_rating\n",
    "    .pivot(index='ID_CLIENTE',columns='PRODUCTO',values='rating',aggregate_function='first')\n",
    ")\n",
    "cliente_producto_ratings.head()"
   ]
  },
  {
   "cell_type": "markdown",
   "metadata": {},
   "source": [
    "Guardamos orden de columnas"
   ]
  },
  {
   "cell_type": "code",
   "execution_count": 20,
   "metadata": {},
   "outputs": [],
   "source": [
    "columnas_productos = cliente_producto_ratings.columns[1:]"
   ]
  },
  {
   "cell_type": "markdown",
   "metadata": {},
   "source": [
    "obtenemos informacion promedio de rating pro cluster"
   ]
  },
  {
   "cell_type": "code",
   "execution_count": 27,
   "metadata": {},
   "outputs": [
    {
     "data": {
      "text/html": [
       "<div><style>\n",
       ".dataframe > thead > tr,\n",
       ".dataframe > tbody > tr {\n",
       "  text-align: right;\n",
       "  white-space: pre-wrap;\n",
       "}\n",
       "</style>\n",
       "<small>shape: (5, 45)</small><table border=\"1\" class=\"dataframe\"><thead><tr><th>SECTOR_ECONOMICO</th><th>REGION</th><th>CLUSTER</th><th>Monetarios Plus Quetzales</th><th>Disvisas</th><th>Planes de Pago</th><th>Quetzales</th><th>Depósitos Monetarios Dólares</th><th>Ahorro Rendimiento Quetzales</th><th>Depósitos Monetarios Quetzales</th><th>Monetarios Preferencial Dólares</th><th>Doc. Descontados</th><th>Ahorro Corriente Quetzales</th><th>Cuentas Corrientes</th><th>Ahorro Rendimiento Dólares</th><th>InterDía Quetzales</th><th>Ahorro Euros</th><th>Ahorro Virtual Quetzales</th><th>InterAuto</th><th>InterSorteo Quetzales</th><th>InterFuturo Quetzales</th><th>Ahorro Corriente Dólares</th><th>Cobranza</th><th>Ahorro Preferencial Dólares</th><th>Visa Banco Internacional</th><th>InterDía Dólares</th><th>Plazo Fijo Quetzales</th><th>Inversión Creciente Quetzales</th><th>InterMoneda Quetzales</th><th>InterCasa</th><th>InterMoneda Dólares</th><th>Dólares</th><th>Financiamiento de Importación</th><th>Cuenta Concentradora Quetzales</th><th>InterPréstamo</th><th>Plazo Fijo Dólares</th><th>Sobregiros</th><th>Inversión Creciente Dólares</th><th>Cuenta InterNómina Quetzales</th><th>FHA</th><th>Cuenta Monedero Quetzales</th><th>Bonos Hipotecarios</th><th>Cartas de Crédito de Exportación</th><th>Cartas de Crédito de Importación</th><th>Cartas de Crédito Stand By</th></tr><tr><td>str</td><td>str</td><td>str</td><td>f64</td><td>f64</td><td>f64</td><td>f64</td><td>f64</td><td>f64</td><td>f64</td><td>f64</td><td>f64</td><td>f64</td><td>f64</td><td>f64</td><td>f64</td><td>f64</td><td>f64</td><td>f64</td><td>f64</td><td>f64</td><td>f64</td><td>f64</td><td>f64</td><td>f64</td><td>f64</td><td>f64</td><td>f64</td><td>f64</td><td>f64</td><td>f64</td><td>f64</td><td>f64</td><td>f64</td><td>f64</td><td>f64</td><td>f64</td><td>f64</td><td>f64</td><td>f64</td><td>f64</td><td>f64</td><td>f64</td><td>f64</td><td>f64</td></tr></thead><tbody><tr><td>&quot;COMERCIO INTERNO (GUATEMALA)_-…</td><td>&quot;Rural&quot;</td><td>&quot;Potenciales&quot;</td><td>3.28169</td><td>4.571429</td><td>5.021277</td><td>-1.0</td><td>4.5</td><td>4.666667</td><td>3.0</td><td>3.25</td><td>2.714286</td><td>null</td><td>3.384615</td><td>null</td><td>3.0</td><td>null</td><td>1.0</td><td>4.6</td><td>4.0</td><td>6.0</td><td>2.0</td><td>null</td><td>null</td><td>3.0</td><td>null</td><td>null</td><td>null</td><td>null</td><td>null</td><td>null</td><td>-1.0</td><td>null</td><td>null</td><td>6.0</td><td>null</td><td>-1.0</td><td>null</td><td>null</td><td>null</td><td>null</td><td>null</td><td>null</td><td>null</td><td>null</td></tr><tr><td>&quot;COMERCIO INTERNO (GUATEMALA)_-…</td><td>&quot;Rural&quot;</td><td>&quot;Lovers Activos&quot;</td><td>3.933333</td><td>4.330275</td><td>3.0746</td><td>-1.0</td><td>4.083333</td><td>3.75</td><td>4.533333</td><td>5.285714</td><td>3.0</td><td>3.909091</td><td>3.612903</td><td>4.5</td><td>4.214286</td><td>-1.0</td><td>4.5</td><td>4.064516</td><td>3.7</td><td>3.0</td><td>3.333333</td><td>null</td><td>3.0</td><td>1.642857</td><td>4.0</td><td>3.666667</td><td>5.5</td><td>4.333333</td><td>4.75</td><td>null</td><td>-1.0</td><td>5.5</td><td>null</td><td>5.833333</td><td>null</td><td>-1.0</td><td>null</td><td>null</td><td>null</td><td>null</td><td>null</td><td>null</td><td>null</td><td>null</td></tr><tr><td>&quot;COMBUSTIBLES PARA VEHICULO_-&quot;</td><td>&quot;Rural&quot;</td><td>&quot;Lovers Activos&quot;</td><td>4.205128</td><td>5.0</td><td>1.871409</td><td>-1.0</td><td>5.0</td><td>4.428571</td><td>3.285714</td><td>null</td><td>null</td><td>null</td><td>4.0</td><td>null</td><td>null</td><td>null</td><td>null</td><td>5.0</td><td>null</td><td>null</td><td>null</td><td>null</td><td>null</td><td>null</td><td>null</td><td>null</td><td>null</td><td>null</td><td>null</td><td>null</td><td>-1.0</td><td>null</td><td>null</td><td>null</td><td>null</td><td>null</td><td>null</td><td>null</td><td>null</td><td>null</td><td>null</td><td>null</td><td>null</td><td>null</td></tr><tr><td>&quot;ENTIDADES SIN FINES DE LUCRO-&quot;</td><td>&quot;Rural&quot;</td><td>&quot;Ahorrador Potencial&quot;</td><td>4.490741</td><td>4.90099</td><td>null</td><td>-1.0</td><td>4.733333</td><td>4.3125</td><td>5.186441</td><td>4.545455</td><td>null</td><td>5.571429</td><td>null</td><td>5.5</td><td>4.636364</td><td>null</td><td>4.222222</td><td>null</td><td>null</td><td>5.0</td><td>null</td><td>null</td><td>null</td><td>null</td><td>5.75</td><td>3.263158</td><td>4.625</td><td>2.0</td><td>null</td><td>3.526316</td><td>null</td><td>null</td><td>-1.0</td><td>null</td><td>null</td><td>null</td><td>3.0</td><td>null</td><td>null</td><td>null</td><td>null</td><td>null</td><td>null</td><td>null</td></tr><tr><td>&quot;COMERCIO INTERNO (GUATEMALA)_-…</td><td>&quot;Rural&quot;</td><td>&quot;Ahorrador Potencial&quot;</td><td>5.160535</td><td>4.702532</td><td>null</td><td>-1.0</td><td>4.6</td><td>5.272727</td><td>5.342466</td><td>4.964286</td><td>null</td><td>5.333333</td><td>1.0</td><td>3.75</td><td>5.129032</td><td>-1.0</td><td>4.222222</td><td>null</td><td>null</td><td>null</td><td>4.333333</td><td>null</td><td>5.0</td><td>null</td><td>5.285714</td><td>2.25</td><td>3.0</td><td>4.666667</td><td>null</td><td>4.0</td><td>-1.0</td><td>null</td><td>-1.0</td><td>null</td><td>null</td><td>null</td><td>3.666667</td><td>null</td><td>null</td><td>-1.0</td><td>null</td><td>null</td><td>-1.0</td><td>null</td></tr></tbody></table></div>"
      ],
      "text/plain": [
       "shape: (5, 45)\n",
       "┌────────────┬────────┬────────────┬───────────┬───┬───────────┬───────────┬───────────┬───────────┐\n",
       "│ SECTOR_ECO ┆ REGION ┆ CLUSTER    ┆ Monetario ┆ … ┆ Bonos Hip ┆ Cartas de ┆ Cartas de ┆ Cartas de │\n",
       "│ NOMICO     ┆ ---    ┆ ---        ┆ s Plus    ┆   ┆ otecarios ┆ Crédito   ┆ Crédito   ┆ Crédito   │\n",
       "│ ---        ┆ str    ┆ str        ┆ Quetzales ┆   ┆ ---       ┆ de Export ┆ de Import ┆ Stand By  │\n",
       "│ str        ┆        ┆            ┆ ---       ┆   ┆ f64       ┆ aci…      ┆ aci…      ┆ ---       │\n",
       "│            ┆        ┆            ┆ f64       ┆   ┆           ┆ ---       ┆ ---       ┆ f64       │\n",
       "│            ┆        ┆            ┆           ┆   ┆           ┆ f64       ┆ f64       ┆           │\n",
       "╞════════════╪════════╪════════════╪═══════════╪═══╪═══════════╪═══════════╪═══════════╪═══════════╡\n",
       "│ COMERCIO   ┆ Rural  ┆ Potenciale ┆ 3.28169   ┆ … ┆ null      ┆ null      ┆ null      ┆ null      │\n",
       "│ INTERNO    ┆        ┆ s          ┆           ┆   ┆           ┆           ┆           ┆           │\n",
       "│ (GUATEMALA ┆        ┆            ┆           ┆   ┆           ┆           ┆           ┆           │\n",
       "│ )_-…       ┆        ┆            ┆           ┆   ┆           ┆           ┆           ┆           │\n",
       "│ COMERCIO   ┆ Rural  ┆ Lovers     ┆ 3.933333  ┆ … ┆ null      ┆ null      ┆ null      ┆ null      │\n",
       "│ INTERNO    ┆        ┆ Activos    ┆           ┆   ┆           ┆           ┆           ┆           │\n",
       "│ (GUATEMALA ┆        ┆            ┆           ┆   ┆           ┆           ┆           ┆           │\n",
       "│ )_-…       ┆        ┆            ┆           ┆   ┆           ┆           ┆           ┆           │\n",
       "│ COMBUSTIBL ┆ Rural  ┆ Lovers     ┆ 4.205128  ┆ … ┆ null      ┆ null      ┆ null      ┆ null      │\n",
       "│ ES PARA    ┆        ┆ Activos    ┆           ┆   ┆           ┆           ┆           ┆           │\n",
       "│ VEHICULO_- ┆        ┆            ┆           ┆   ┆           ┆           ┆           ┆           │\n",
       "│ ENTIDADES  ┆ Rural  ┆ Ahorrador  ┆ 4.490741  ┆ … ┆ null      ┆ null      ┆ null      ┆ null      │\n",
       "│ SIN FINES  ┆        ┆ Potencial  ┆           ┆   ┆           ┆           ┆           ┆           │\n",
       "│ DE LUCRO-  ┆        ┆            ┆           ┆   ┆           ┆           ┆           ┆           │\n",
       "│ COMERCIO   ┆ Rural  ┆ Ahorrador  ┆ 5.160535  ┆ … ┆ null      ┆ null      ┆ -1.0      ┆ null      │\n",
       "│ INTERNO    ┆        ┆ Potencial  ┆           ┆   ┆           ┆           ┆           ┆           │\n",
       "│ (GUATEMALA ┆        ┆            ┆           ┆   ┆           ┆           ┆           ┆           │\n",
       "│ )_-…       ┆        ┆            ┆           ┆   ┆           ┆           ┆           ┆           │\n",
       "└────────────┴────────┴────────────┴───────────┴───┴───────────┴───────────┴───────────┴───────────┘"
      ]
     },
     "execution_count": 27,
     "metadata": {},
     "output_type": "execute_result"
    }
   ],
   "source": [
    "cluster_producto_rating = (\n",
    "    df_rating\n",
    "    .pivot(\n",
    "        index=['SECTOR_ECONOMICO','REGION','CLUSTER'],\n",
    "        columns='PRODUCTO',\n",
    "        values='rating',\n",
    "        aggregate_function='mean'\n",
    "    )\n",
    "    .select(['SECTOR_ECONOMICO','REGION','CLUSTER']+columnas_productos)\n",
    ")\n",
    "\n",
    "cluster_producto_rating.head()"
   ]
  },
  {
   "cell_type": "code",
   "execution_count": 22,
   "metadata": {},
   "outputs": [],
   "source": [
    "informacion_cliente = df_rating.drop(['NRO_CUENTA','rating'])"
   ]
  },
  {
   "cell_type": "code",
   "execution_count": 189,
   "metadata": {},
   "outputs": [],
   "source": [
    "cliente_producto_ratings.write_parquet(r\"99. NBO\\data\\interim\\cliente_producto_ratings.parquet\")\n",
    "cluster_producto_rating.write_parquet(r\"99. NBO\\data\\interim\\cluster_producto_rating.parquet\")\n",
    "informacion_cliente.write_parquet(r\"99. NBO\\data\\interim\\informacion_cliente.parquet\")"
   ]
  },
  {
   "cell_type": "code",
   "execution_count": 25,
   "metadata": {},
   "outputs": [],
   "source": [
    "cliente_producto_ratings.fill_null(0).write_parquet(r\"99. NBO\\data\\interim\\cliente_rating.parquet\")"
   ]
  }
 ],
 "metadata": {
  "kernelspec": {
   "display_name": ".venv",
   "language": "python",
   "name": "python3"
  },
  "language_info": {
   "codemirror_mode": {
    "name": "ipython",
    "version": 3
   },
   "file_extension": ".py",
   "mimetype": "text/x-python",
   "name": "python",
   "nbconvert_exporter": "python",
   "pygments_lexer": "ipython3",
   "version": "3.11.3"
  }
 },
 "nbformat": 4,
 "nbformat_minor": 2
}
