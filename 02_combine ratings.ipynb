{
 "cells": [
  {
   "cell_type": "code",
   "execution_count": 2,
   "metadata": {},
   "outputs": [],
   "source": [
    "import numpy as np\n",
    "import polars as pl \n",
    "import pandas as pd\n",
    "from sklearn.metrics.pairwise import cosine_similarity"
   ]
  },
  {
   "cell_type": "code",
   "execution_count": 27,
   "metadata": {},
   "outputs": [],
   "source": [
    "RUTA_CLIENTE_PRODUCTO_RATING = r\"99. NBO\\data\\interim\\cliente_producto_ratings.parquet\"\n",
    "RUTA_CLUSTER_PRODUCTO_RATING = r\"99. NBO\\data\\interim\\cluster_producto_rating.parquet\"\n",
    "RUTA_INFO_CLIENTE = r\"99. NBO\\data\\interim\\informacion_cliente.parquet\"\n",
    "RUTA_RATINGS = r\"99. NBO\\data\\interim\\cliente_rating.parquet\""
   ]
  },
  {
   "cell_type": "code",
   "execution_count": 90,
   "metadata": {},
   "outputs": [],
   "source": [
    "rating_cliente_df = pl.scan_parquet(RUTA_RATINGS).collect().to_pandas()\n",
    "info_cliente = pl.scan_parquet(RUTA_INFO_CLIENTE).collect()\n",
    "cliente_producto_ratings = pl.scan_parquet(RUTA_CLIENTE_PRODUCTO_RATING).collect().fill_null(0)\n",
    "cluster_rating = pl.scan_parquet(RUTA_CLUSTER_PRODUCTO_RATING).collect().fill_null(0)\n",
    "matrix_client_product = pl.scan_parquet(RUTA_CLIENTE_PRODUCTO_RATING).collect().fill_null(0).to_numpy()[:,1:]\n",
    "matrix_cluster_product = pl.scan_parquet(RUTA_CLUSTER_PRODUCTO_RATING).collect().fill_null(0).to_numpy()[:,3:]\n",
    "LISTA_PRODUCTOS = pl.scan_parquet(RUTA_CLIENTE_PRODUCTO_RATING).drop('ID_CLIENTE').collect().columns"
   ]
  },
  {
   "cell_type": "code",
   "execution_count": 91,
   "metadata": {},
   "outputs": [
    {
     "data": {
      "text/html": [
       "<div>\n",
       "<style scoped>\n",
       "    .dataframe tbody tr th:only-of-type {\n",
       "        vertical-align: middle;\n",
       "    }\n",
       "\n",
       "    .dataframe tbody tr th {\n",
       "        vertical-align: top;\n",
       "    }\n",
       "\n",
       "    .dataframe thead th {\n",
       "        text-align: right;\n",
       "    }\n",
       "</style>\n",
       "<table border=\"1\" class=\"dataframe\">\n",
       "  <thead>\n",
       "    <tr style=\"text-align: right;\">\n",
       "      <th></th>\n",
       "      <th>ID_CLIENTE</th>\n",
       "      <th>CLUSTER</th>\n",
       "    </tr>\n",
       "  </thead>\n",
       "  <tbody>\n",
       "    <tr>\n",
       "      <th>0</th>\n",
       "      <td>553052</td>\n",
       "      <td>OTRO-Rural-Poco Transaccional</td>\n",
       "    </tr>\n",
       "    <tr>\n",
       "      <th>1</th>\n",
       "      <td>563528</td>\n",
       "      <td>COMBUSTIBLES PARA VEHICULO_--Rural-Lovers Activos</td>\n",
       "    </tr>\n",
       "    <tr>\n",
       "      <th>2</th>\n",
       "      <td>374712</td>\n",
       "      <td>TRANSPORTE TERRESTRE_-¯-Rural-Pequeños</td>\n",
       "    </tr>\n",
       "    <tr>\n",
       "      <th>3</th>\n",
       "      <td>286481</td>\n",
       "      <td>COMERCIO INTERNO (GUATEMALA)_-¯-Rural-Pequeños</td>\n",
       "    </tr>\n",
       "    <tr>\n",
       "      <th>4</th>\n",
       "      <td>561260</td>\n",
       "      <td>COMERCIO INTERNO (GUATEMALA)_-¯-Rural-Ahorrado...</td>\n",
       "    </tr>\n",
       "  </tbody>\n",
       "</table>\n",
       "</div>"
      ],
      "text/plain": [
       "  ID_CLIENTE                                            CLUSTER\n",
       "0     553052                      OTRO-Rural-Poco Transaccional\n",
       "1     563528  COMBUSTIBLES PARA VEHICULO_--Rural-Lovers Activos\n",
       "2     374712             TRANSPORTE TERRESTRE_-¯-Rural-Pequeños\n",
       "3     286481     COMERCIO INTERNO (GUATEMALA)_-¯-Rural-Pequeños\n",
       "4     561260  COMERCIO INTERNO (GUATEMALA)_-¯-Rural-Ahorrado..."
      ]
     },
     "execution_count": 91,
     "metadata": {},
     "output_type": "execute_result"
    }
   ],
   "source": [
    "info_cliente = (\n",
    "    info_cliente\n",
    "    .with_columns(pl.concat_list(['SECTOR_ECONOMICO','REGION','CLUSTER']).list.join('-').alias('CLUSTER'))\n",
    "    .drop(['SECTOR_ECONOMICO','REGION','PRODUCTO'])\n",
    "    .unique()\n",
    "    .to_pandas()\n",
    ")\n",
    "info_cliente.head()"
   ]
  },
  {
   "cell_type": "code",
   "execution_count": 92,
   "metadata": {},
   "outputs": [
    {
     "data": {
      "text/html": [
       "<div>\n",
       "<style scoped>\n",
       "    .dataframe tbody tr th:only-of-type {\n",
       "        vertical-align: middle;\n",
       "    }\n",
       "\n",
       "    .dataframe tbody tr th {\n",
       "        vertical-align: top;\n",
       "    }\n",
       "\n",
       "    .dataframe thead th {\n",
       "        text-align: right;\n",
       "    }\n",
       "</style>\n",
       "<table border=\"1\" class=\"dataframe\">\n",
       "  <thead>\n",
       "    <tr style=\"text-align: right;\">\n",
       "      <th></th>\n",
       "      <th>CLUSTER</th>\n",
       "      <th>Depósitos Monetarios Dólares</th>\n",
       "      <th>Disvisas</th>\n",
       "      <th>Monetarios Plus Quetzales</th>\n",
       "      <th>Planes de Pago</th>\n",
       "      <th>Depósitos Monetarios Quetzales</th>\n",
       "      <th>Visa Banco Internacional</th>\n",
       "      <th>InterDía Dólares</th>\n",
       "      <th>Ahorro Corriente Quetzales</th>\n",
       "      <th>InterDía Quetzales</th>\n",
       "      <th>...</th>\n",
       "      <th>Financiamiento de Importación</th>\n",
       "      <th>Cartas de Crédito de Importación</th>\n",
       "      <th>Inversión Creciente Dólares</th>\n",
       "      <th>Bonos Hipotecarios</th>\n",
       "      <th>Cuenta Monedero Quetzales</th>\n",
       "      <th>Cartas de Crédito Stand By</th>\n",
       "      <th>Cuenta InterNómina Quetzales</th>\n",
       "      <th>Cobranza</th>\n",
       "      <th>Cartas de Crédito de Exportación</th>\n",
       "      <th>FHA</th>\n",
       "    </tr>\n",
       "  </thead>\n",
       "  <tbody>\n",
       "    <tr>\n",
       "      <th>0</th>\n",
       "      <td>OTRO-Rural-Poco Transaccional</td>\n",
       "      <td>3.585106</td>\n",
       "      <td>4.540107</td>\n",
       "      <td>3.396088</td>\n",
       "      <td>0.000000</td>\n",
       "      <td>3.991667</td>\n",
       "      <td>1.0</td>\n",
       "      <td>3.230769</td>\n",
       "      <td>3.750000</td>\n",
       "      <td>2.620690</td>\n",
       "      <td>...</td>\n",
       "      <td>0.0</td>\n",
       "      <td>0.0</td>\n",
       "      <td>2.0</td>\n",
       "      <td>0.0</td>\n",
       "      <td>0.0</td>\n",
       "      <td>0.0</td>\n",
       "      <td>0.0</td>\n",
       "      <td>0.0</td>\n",
       "      <td>0.0</td>\n",
       "      <td>0.0</td>\n",
       "    </tr>\n",
       "    <tr>\n",
       "      <th>1</th>\n",
       "      <td>COMERCIO DE IMPORTACION_-¯-Rural-Poco Transacc...</td>\n",
       "      <td>3.317073</td>\n",
       "      <td>4.831250</td>\n",
       "      <td>3.576471</td>\n",
       "      <td>0.000000</td>\n",
       "      <td>4.340426</td>\n",
       "      <td>0.0</td>\n",
       "      <td>4.333333</td>\n",
       "      <td>4.000000</td>\n",
       "      <td>3.166667</td>\n",
       "      <td>...</td>\n",
       "      <td>0.0</td>\n",
       "      <td>0.0</td>\n",
       "      <td>0.0</td>\n",
       "      <td>0.0</td>\n",
       "      <td>0.0</td>\n",
       "      <td>0.0</td>\n",
       "      <td>0.0</td>\n",
       "      <td>0.0</td>\n",
       "      <td>0.0</td>\n",
       "      <td>0.0</td>\n",
       "    </tr>\n",
       "    <tr>\n",
       "      <th>2</th>\n",
       "      <td>INMOBILIARIA_--Rural-Poco Transaccional</td>\n",
       "      <td>3.500000</td>\n",
       "      <td>4.531746</td>\n",
       "      <td>3.758865</td>\n",
       "      <td>0.000000</td>\n",
       "      <td>4.237288</td>\n",
       "      <td>0.0</td>\n",
       "      <td>3.000000</td>\n",
       "      <td>3.615385</td>\n",
       "      <td>3.888889</td>\n",
       "      <td>...</td>\n",
       "      <td>0.0</td>\n",
       "      <td>0.0</td>\n",
       "      <td>0.0</td>\n",
       "      <td>0.0</td>\n",
       "      <td>0.0</td>\n",
       "      <td>0.0</td>\n",
       "      <td>0.0</td>\n",
       "      <td>0.0</td>\n",
       "      <td>0.0</td>\n",
       "      <td>0.0</td>\n",
       "    </tr>\n",
       "    <tr>\n",
       "      <th>3</th>\n",
       "      <td>INMOBILIARIA_--Rural-Potenciales</td>\n",
       "      <td>3.571429</td>\n",
       "      <td>4.125000</td>\n",
       "      <td>3.513514</td>\n",
       "      <td>5.243902</td>\n",
       "      <td>0.000000</td>\n",
       "      <td>1.0</td>\n",
       "      <td>0.000000</td>\n",
       "      <td>5.000000</td>\n",
       "      <td>5.200000</td>\n",
       "      <td>...</td>\n",
       "      <td>0.0</td>\n",
       "      <td>0.0</td>\n",
       "      <td>0.0</td>\n",
       "      <td>0.0</td>\n",
       "      <td>0.0</td>\n",
       "      <td>0.0</td>\n",
       "      <td>0.0</td>\n",
       "      <td>0.0</td>\n",
       "      <td>0.0</td>\n",
       "      <td>0.0</td>\n",
       "    </tr>\n",
       "    <tr>\n",
       "      <th>4</th>\n",
       "      <td>OTRO-Rural-Ahorrador Potencial</td>\n",
       "      <td>4.911392</td>\n",
       "      <td>4.705645</td>\n",
       "      <td>4.939024</td>\n",
       "      <td>0.000000</td>\n",
       "      <td>5.107843</td>\n",
       "      <td>0.0</td>\n",
       "      <td>4.777778</td>\n",
       "      <td>4.333333</td>\n",
       "      <td>4.954545</td>\n",
       "      <td>...</td>\n",
       "      <td>0.0</td>\n",
       "      <td>0.0</td>\n",
       "      <td>3.0</td>\n",
       "      <td>-1.0</td>\n",
       "      <td>0.0</td>\n",
       "      <td>0.0</td>\n",
       "      <td>0.0</td>\n",
       "      <td>0.0</td>\n",
       "      <td>0.0</td>\n",
       "      <td>0.0</td>\n",
       "    </tr>\n",
       "  </tbody>\n",
       "</table>\n",
       "<p>5 rows × 43 columns</p>\n",
       "</div>"
      ],
      "text/plain": [
       "                                             CLUSTER  \\\n",
       "0                      OTRO-Rural-Poco Transaccional   \n",
       "1  COMERCIO DE IMPORTACION_-¯-Rural-Poco Transacc...   \n",
       "2            INMOBILIARIA_--Rural-Poco Transaccional   \n",
       "3                   INMOBILIARIA_--Rural-Potenciales   \n",
       "4                     OTRO-Rural-Ahorrador Potencial   \n",
       "\n",
       "   Depósitos Monetarios Dólares  Disvisas  Monetarios Plus Quetzales  \\\n",
       "0                      3.585106  4.540107                   3.396088   \n",
       "1                      3.317073  4.831250                   3.576471   \n",
       "2                      3.500000  4.531746                   3.758865   \n",
       "3                      3.571429  4.125000                   3.513514   \n",
       "4                      4.911392  4.705645                   4.939024   \n",
       "\n",
       "   Planes de Pago  Depósitos Monetarios Quetzales  Visa Banco Internacional  \\\n",
       "0        0.000000                        3.991667                       1.0   \n",
       "1        0.000000                        4.340426                       0.0   \n",
       "2        0.000000                        4.237288                       0.0   \n",
       "3        5.243902                        0.000000                       1.0   \n",
       "4        0.000000                        5.107843                       0.0   \n",
       "\n",
       "   InterDía Dólares  Ahorro Corriente Quetzales  InterDía Quetzales  ...  \\\n",
       "0          3.230769                    3.750000            2.620690  ...   \n",
       "1          4.333333                    4.000000            3.166667  ...   \n",
       "2          3.000000                    3.615385            3.888889  ...   \n",
       "3          0.000000                    5.000000            5.200000  ...   \n",
       "4          4.777778                    4.333333            4.954545  ...   \n",
       "\n",
       "   Financiamiento de Importación  Cartas de Crédito de Importación  \\\n",
       "0                            0.0                               0.0   \n",
       "1                            0.0                               0.0   \n",
       "2                            0.0                               0.0   \n",
       "3                            0.0                               0.0   \n",
       "4                            0.0                               0.0   \n",
       "\n",
       "   Inversión Creciente Dólares  Bonos Hipotecarios  Cuenta Monedero Quetzales  \\\n",
       "0                          2.0                 0.0                        0.0   \n",
       "1                          0.0                 0.0                        0.0   \n",
       "2                          0.0                 0.0                        0.0   \n",
       "3                          0.0                 0.0                        0.0   \n",
       "4                          3.0                -1.0                        0.0   \n",
       "\n",
       "   Cartas de Crédito Stand By  Cuenta InterNómina Quetzales  Cobranza  \\\n",
       "0                         0.0                           0.0       0.0   \n",
       "1                         0.0                           0.0       0.0   \n",
       "2                         0.0                           0.0       0.0   \n",
       "3                         0.0                           0.0       0.0   \n",
       "4                         0.0                           0.0       0.0   \n",
       "\n",
       "   Cartas de Crédito de Exportación  FHA  \n",
       "0                               0.0  0.0  \n",
       "1                               0.0  0.0  \n",
       "2                               0.0  0.0  \n",
       "3                               0.0  0.0  \n",
       "4                               0.0  0.0  \n",
       "\n",
       "[5 rows x 43 columns]"
      ]
     },
     "execution_count": 92,
     "metadata": {},
     "output_type": "execute_result"
    }
   ],
   "source": [
    "cluster_rating = (\n",
    "    cluster_rating\n",
    "    .with_columns(pl.concat_list(['SECTOR_ECONOMICO','REGION','CLUSTER']).list.join('-').alias('CLUSTER'))\n",
    "    .drop(['SECTOR_ECONOMICO','REGION'])\n",
    "    .to_pandas()\n",
    ")\n",
    "cluster_rating.head()"
   ]
  },
  {
   "cell_type": "markdown",
   "metadata": {},
   "source": [
    "# Obtenemos customer-product rating matrix"
   ]
  },
  {
   "cell_type": "code",
   "execution_count": 12,
   "metadata": {},
   "outputs": [
    {
     "data": {
      "text/plain": [
       "array([[4, 4, 0, ..., 0, 0, 0],\n",
       "       [0, 6, 0, ..., 0, 0, 0],\n",
       "       [0, 4, 2, ..., 3, 6, 5],\n",
       "       ...,\n",
       "       [0, 0, 0, ..., 0, 0, 0],\n",
       "       [0, 0, 0, ..., 0, 0, 0],\n",
       "       [0, 0, 0, ..., 0, 0, 0]], dtype=object)"
      ]
     },
     "execution_count": 12,
     "metadata": {},
     "output_type": "execute_result"
    }
   ],
   "source": [
    "# Customer-Product Rating Matrix\n",
    "# - Rows representing products.\n",
    "# - Columns representing customers.\n",
    "# - Values representing the ratings customers gave to products.\n",
    "matrix_client_product.T"
   ]
  },
  {
   "cell_type": "code",
   "execution_count": 14,
   "metadata": {},
   "outputs": [],
   "source": [
    "# Obtenemos similaridad de coseno entre productos\n",
    "# similarity between product pairs\n",
    "product_similarity_client = cosine_similarity(matrix_client_product.T)"
   ]
  },
  {
   "cell_type": "code",
   "execution_count": 16,
   "metadata": {},
   "outputs": [],
   "source": [
    "product_similarity_df = pd.DataFrame(\n",
    "    product_similarity_client,\n",
    "    index=LISTA_PRODUCTOS,\n",
    "    columns=LISTA_PRODUCTOS\n",
    ")"
   ]
  },
  {
   "cell_type": "code",
   "execution_count": 19,
   "metadata": {},
   "outputs": [
    {
     "data": {
      "text/html": [
       "<div>\n",
       "<style scoped>\n",
       "    .dataframe tbody tr th:only-of-type {\n",
       "        vertical-align: middle;\n",
       "    }\n",
       "\n",
       "    .dataframe tbody tr th {\n",
       "        vertical-align: top;\n",
       "    }\n",
       "\n",
       "    .dataframe thead th {\n",
       "        text-align: right;\n",
       "    }\n",
       "</style>\n",
       "<table border=\"1\" class=\"dataframe\">\n",
       "  <thead>\n",
       "    <tr style=\"text-align: right;\">\n",
       "      <th></th>\n",
       "      <th>Depósitos Monetarios Dólares</th>\n",
       "      <th>Disvisas</th>\n",
       "      <th>Monetarios Plus Quetzales</th>\n",
       "      <th>Planes de Pago</th>\n",
       "      <th>Depósitos Monetarios Quetzales</th>\n",
       "      <th>Visa Banco Internacional</th>\n",
       "      <th>InterDía Dólares</th>\n",
       "      <th>Ahorro Corriente Quetzales</th>\n",
       "      <th>InterDía Quetzales</th>\n",
       "      <th>InterSorteo Quetzales</th>\n",
       "      <th>...</th>\n",
       "      <th>Financiamiento de Importación</th>\n",
       "      <th>Cartas de Crédito de Importación</th>\n",
       "      <th>Inversión Creciente Dólares</th>\n",
       "      <th>Bonos Hipotecarios</th>\n",
       "      <th>Cuenta Monedero Quetzales</th>\n",
       "      <th>Cartas de Crédito Stand By</th>\n",
       "      <th>Cuenta InterNómina Quetzales</th>\n",
       "      <th>Cobranza</th>\n",
       "      <th>Cartas de Crédito de Exportación</th>\n",
       "      <th>FHA</th>\n",
       "    </tr>\n",
       "  </thead>\n",
       "  <tbody>\n",
       "    <tr>\n",
       "      <th>Depósitos Monetarios Dólares</th>\n",
       "      <td>1.000000</td>\n",
       "      <td>0.431267</td>\n",
       "      <td>0.295151</td>\n",
       "      <td>0.126139</td>\n",
       "      <td>0.225415</td>\n",
       "      <td>0.009220</td>\n",
       "      <td>0.076016</td>\n",
       "      <td>0.053219</td>\n",
       "      <td>0.077953</td>\n",
       "      <td>0.008477</td>\n",
       "      <td>...</td>\n",
       "      <td>0.045533</td>\n",
       "      <td>-0.025070</td>\n",
       "      <td>0.055791</td>\n",
       "      <td>0.0</td>\n",
       "      <td>0.000000</td>\n",
       "      <td>-0.021711</td>\n",
       "      <td>0.000000</td>\n",
       "      <td>-0.017727</td>\n",
       "      <td>-0.037605</td>\n",
       "      <td>0.000000</td>\n",
       "    </tr>\n",
       "    <tr>\n",
       "      <th>Disvisas</th>\n",
       "      <td>0.431267</td>\n",
       "      <td>1.000000</td>\n",
       "      <td>0.442658</td>\n",
       "      <td>0.237068</td>\n",
       "      <td>0.286797</td>\n",
       "      <td>0.127462</td>\n",
       "      <td>0.116068</td>\n",
       "      <td>0.102158</td>\n",
       "      <td>0.137147</td>\n",
       "      <td>0.064095</td>\n",
       "      <td>...</td>\n",
       "      <td>0.037857</td>\n",
       "      <td>-0.004078</td>\n",
       "      <td>0.036571</td>\n",
       "      <td>0.0</td>\n",
       "      <td>-0.023545</td>\n",
       "      <td>-0.042381</td>\n",
       "      <td>0.026462</td>\n",
       "      <td>-0.017302</td>\n",
       "      <td>-0.004078</td>\n",
       "      <td>0.011719</td>\n",
       "    </tr>\n",
       "    <tr>\n",
       "      <th>Monetarios Plus Quetzales</th>\n",
       "      <td>0.295151</td>\n",
       "      <td>0.442658</td>\n",
       "      <td>1.000000</td>\n",
       "      <td>0.247968</td>\n",
       "      <td>0.050482</td>\n",
       "      <td>0.052806</td>\n",
       "      <td>0.071092</td>\n",
       "      <td>0.050762</td>\n",
       "      <td>0.152584</td>\n",
       "      <td>0.029327</td>\n",
       "      <td>...</td>\n",
       "      <td>0.016920</td>\n",
       "      <td>0.000000</td>\n",
       "      <td>0.018146</td>\n",
       "      <td>0.0</td>\n",
       "      <td>-0.020502</td>\n",
       "      <td>-0.029044</td>\n",
       "      <td>0.000000</td>\n",
       "      <td>-0.025109</td>\n",
       "      <td>-0.017755</td>\n",
       "      <td>0.002501</td>\n",
       "    </tr>\n",
       "    <tr>\n",
       "      <th>Planes de Pago</th>\n",
       "      <td>0.126139</td>\n",
       "      <td>0.237068</td>\n",
       "      <td>0.247968</td>\n",
       "      <td>1.000000</td>\n",
       "      <td>0.105105</td>\n",
       "      <td>0.222566</td>\n",
       "      <td>0.022140</td>\n",
       "      <td>0.048001</td>\n",
       "      <td>0.103181</td>\n",
       "      <td>0.152361</td>\n",
       "      <td>...</td>\n",
       "      <td>0.016278</td>\n",
       "      <td>0.000000</td>\n",
       "      <td>0.000000</td>\n",
       "      <td>0.0</td>\n",
       "      <td>0.000000</td>\n",
       "      <td>-0.015524</td>\n",
       "      <td>0.046890</td>\n",
       "      <td>-0.014260</td>\n",
       "      <td>-0.033610</td>\n",
       "      <td>0.020452</td>\n",
       "    </tr>\n",
       "    <tr>\n",
       "      <th>Depósitos Monetarios Quetzales</th>\n",
       "      <td>0.225415</td>\n",
       "      <td>0.286797</td>\n",
       "      <td>0.050482</td>\n",
       "      <td>0.105105</td>\n",
       "      <td>1.000000</td>\n",
       "      <td>0.044941</td>\n",
       "      <td>0.059555</td>\n",
       "      <td>0.103053</td>\n",
       "      <td>0.079159</td>\n",
       "      <td>0.022759</td>\n",
       "      <td>...</td>\n",
       "      <td>0.038579</td>\n",
       "      <td>-0.030185</td>\n",
       "      <td>0.020567</td>\n",
       "      <td>0.0</td>\n",
       "      <td>0.000000</td>\n",
       "      <td>-0.017427</td>\n",
       "      <td>0.000816</td>\n",
       "      <td>-0.007115</td>\n",
       "      <td>0.000000</td>\n",
       "      <td>0.010204</td>\n",
       "    </tr>\n",
       "  </tbody>\n",
       "</table>\n",
       "<p>5 rows × 42 columns</p>\n",
       "</div>"
      ],
      "text/plain": [
       "                                Depósitos Monetarios Dólares  Disvisas  \\\n",
       "Depósitos Monetarios Dólares                        1.000000  0.431267   \n",
       "Disvisas                                            0.431267  1.000000   \n",
       "Monetarios Plus Quetzales                           0.295151  0.442658   \n",
       "Planes de Pago                                      0.126139  0.237068   \n",
       "Depósitos Monetarios Quetzales                      0.225415  0.286797   \n",
       "\n",
       "                                Monetarios Plus Quetzales  Planes de Pago  \\\n",
       "Depósitos Monetarios Dólares                     0.295151        0.126139   \n",
       "Disvisas                                         0.442658        0.237068   \n",
       "Monetarios Plus Quetzales                        1.000000        0.247968   \n",
       "Planes de Pago                                   0.247968        1.000000   \n",
       "Depósitos Monetarios Quetzales                   0.050482        0.105105   \n",
       "\n",
       "                                Depósitos Monetarios Quetzales  \\\n",
       "Depósitos Monetarios Dólares                          0.225415   \n",
       "Disvisas                                              0.286797   \n",
       "Monetarios Plus Quetzales                             0.050482   \n",
       "Planes de Pago                                        0.105105   \n",
       "Depósitos Monetarios Quetzales                        1.000000   \n",
       "\n",
       "                                Visa Banco Internacional  InterDía Dólares  \\\n",
       "Depósitos Monetarios Dólares                    0.009220          0.076016   \n",
       "Disvisas                                        0.127462          0.116068   \n",
       "Monetarios Plus Quetzales                       0.052806          0.071092   \n",
       "Planes de Pago                                  0.222566          0.022140   \n",
       "Depósitos Monetarios Quetzales                  0.044941          0.059555   \n",
       "\n",
       "                                Ahorro Corriente Quetzales  \\\n",
       "Depósitos Monetarios Dólares                      0.053219   \n",
       "Disvisas                                          0.102158   \n",
       "Monetarios Plus Quetzales                         0.050762   \n",
       "Planes de Pago                                    0.048001   \n",
       "Depósitos Monetarios Quetzales                    0.103053   \n",
       "\n",
       "                                InterDía Quetzales  InterSorteo Quetzales  \\\n",
       "Depósitos Monetarios Dólares              0.077953               0.008477   \n",
       "Disvisas                                  0.137147               0.064095   \n",
       "Monetarios Plus Quetzales                 0.152584               0.029327   \n",
       "Planes de Pago                            0.103181               0.152361   \n",
       "Depósitos Monetarios Quetzales            0.079159               0.022759   \n",
       "\n",
       "                                ...  Financiamiento de Importación  \\\n",
       "Depósitos Monetarios Dólares    ...                       0.045533   \n",
       "Disvisas                        ...                       0.037857   \n",
       "Monetarios Plus Quetzales       ...                       0.016920   \n",
       "Planes de Pago                  ...                       0.016278   \n",
       "Depósitos Monetarios Quetzales  ...                       0.038579   \n",
       "\n",
       "                                Cartas de Crédito de Importación  \\\n",
       "Depósitos Monetarios Dólares                           -0.025070   \n",
       "Disvisas                                               -0.004078   \n",
       "Monetarios Plus Quetzales                               0.000000   \n",
       "Planes de Pago                                          0.000000   \n",
       "Depósitos Monetarios Quetzales                         -0.030185   \n",
       "\n",
       "                                Inversión Creciente Dólares  \\\n",
       "Depósitos Monetarios Dólares                       0.055791   \n",
       "Disvisas                                           0.036571   \n",
       "Monetarios Plus Quetzales                          0.018146   \n",
       "Planes de Pago                                     0.000000   \n",
       "Depósitos Monetarios Quetzales                     0.020567   \n",
       "\n",
       "                                Bonos Hipotecarios  Cuenta Monedero Quetzales  \\\n",
       "Depósitos Monetarios Dólares                   0.0                   0.000000   \n",
       "Disvisas                                       0.0                  -0.023545   \n",
       "Monetarios Plus Quetzales                      0.0                  -0.020502   \n",
       "Planes de Pago                                 0.0                   0.000000   \n",
       "Depósitos Monetarios Quetzales                 0.0                   0.000000   \n",
       "\n",
       "                                Cartas de Crédito Stand By  \\\n",
       "Depósitos Monetarios Dólares                     -0.021711   \n",
       "Disvisas                                         -0.042381   \n",
       "Monetarios Plus Quetzales                        -0.029044   \n",
       "Planes de Pago                                   -0.015524   \n",
       "Depósitos Monetarios Quetzales                   -0.017427   \n",
       "\n",
       "                                Cuenta InterNómina Quetzales  Cobranza  \\\n",
       "Depósitos Monetarios Dólares                        0.000000 -0.017727   \n",
       "Disvisas                                            0.026462 -0.017302   \n",
       "Monetarios Plus Quetzales                           0.000000 -0.025109   \n",
       "Planes de Pago                                      0.046890 -0.014260   \n",
       "Depósitos Monetarios Quetzales                      0.000816 -0.007115   \n",
       "\n",
       "                                Cartas de Crédito de Exportación       FHA  \n",
       "Depósitos Monetarios Dólares                           -0.037605  0.000000  \n",
       "Disvisas                                               -0.004078  0.011719  \n",
       "Monetarios Plus Quetzales                              -0.017755  0.002501  \n",
       "Planes de Pago                                         -0.033610  0.020452  \n",
       "Depósitos Monetarios Quetzales                          0.000000  0.010204  \n",
       "\n",
       "[5 rows x 42 columns]"
      ]
     },
     "execution_count": 19,
     "metadata": {},
     "output_type": "execute_result"
    }
   ],
   "source": [
    "product_similarity_df.head()"
   ]
  },
  {
   "cell_type": "markdown",
   "metadata": {},
   "source": [
    "# Obtenemos cluster-product rating matrix"
   ]
  },
  {
   "cell_type": "code",
   "execution_count": 65,
   "metadata": {},
   "outputs": [
    {
     "data": {
      "text/plain": [
       "array([[3.5851063829787235, 3.317073170731707, 3.5, ..., 0.0, 0.0, 0.0],\n",
       "       [4.540106951871658, 4.83125, 4.531746031746032, ..., 0.0, 0.0,\n",
       "        0.0],\n",
       "       [3.3960880195599024, 3.5764705882352943, 3.7588652482269502, ...,\n",
       "        6.0, 2.0, 1.0],\n",
       "       ...,\n",
       "       [0.0, 0.0, 0.0, ..., 0.0, 0.0, 0.0],\n",
       "       [0.0, 0.0, 0.0, ..., 0.0, 0.0, 0.0],\n",
       "       [0.0, 0.0, 0.0, ..., 0.0, 0.0, 0.0]], dtype=object)"
      ]
     },
     "execution_count": 65,
     "metadata": {},
     "output_type": "execute_result"
    }
   ],
   "source": [
    "# Cluster-Product Rating Matrix\n",
    "# - Rows representing products.\n",
    "# - Columns representing cluster.\n",
    "# - Values representing the ratings customers gave to products.\n",
    "matrix_cluster_product.T"
   ]
  },
  {
   "cell_type": "markdown",
   "metadata": {},
   "source": [
    "# Recomendador"
   ]
  },
  {
   "cell_type": "markdown",
   "metadata": {},
   "source": [
    "## Predicted ratings"
   ]
  },
  {
   "cell_type": "markdown",
   "metadata": {},
   "source": [
    "- item-based collaborative filtering\n",
    "- "
   ]
  },
  {
   "cell_type": "markdown",
   "metadata": {},
   "source": [
    "Obtenemos top-N productos similares a cada producto"
   ]
  },
  {
   "cell_type": "code",
   "execution_count": 20,
   "metadata": {},
   "outputs": [],
   "source": [
    "def get_similar_products(product_id, product_similarity_df, top_n=3):\n",
    "    # Sort products by similarity score in descending order\n",
    "    similar_products = product_similarity_df[product_id].sort_values(ascending=False)\n",
    "    # Exclude the product itself and select the top-N similar products\n",
    "    return similar_products.drop(product_id).head(top_n)"
   ]
  },
  {
   "cell_type": "code",
   "execution_count": 40,
   "metadata": {},
   "outputs": [
    {
     "data": {
      "text/plain": [
       "Index(['InterPréstamo', 'Planes de Pago', 'InterSorteo Quetzales', 'InterCasa',\n",
       "       'Cuenta InterNómina Quetzales'],\n",
       "      dtype='object')"
      ]
     },
     "execution_count": 40,
     "metadata": {},
     "output_type": "execute_result"
    }
   ],
   "source": [
    "get_similar_products('Visa Banco Internacional',product_similarity_df,5).index"
   ]
  },
  {
   "cell_type": "markdown",
   "metadata": {},
   "source": [
    "### Predicted ratings"
   ]
  },
  {
   "cell_type": "code",
   "execution_count": 41,
   "metadata": {},
   "outputs": [
    {
     "data": {
      "text/plain": [
       "array([0, 0, 0, 0, 0])"
      ]
     },
     "execution_count": 41,
     "metadata": {},
     "output_type": "execute_result"
    }
   ],
   "source": [
    "(rating_cliente_df.head(1)[get_similar_products('Visa Banco Internacional',product_similarity_df,5).index].values)[0]"
   ]
  },
  {
   "cell_type": "code",
   "execution_count": 56,
   "metadata": {},
   "outputs": [],
   "source": [
    "def rating_new_product(df, product_similarity_df, producto, id_cliente):\n",
    "\n",
    "    top_similar_products = get_similar_products(producto,product_similarity_df,5).index\n",
    "    top_similarity = get_similar_products(producto,product_similarity_df,5).values\n",
    "\n",
    "    # Avoid division by zero\n",
    "    if np.sum(top_similarity) == 0:\n",
    "        return 0\n",
    "\n",
    "    rating = df.loc[df.ID_CLIENTE==id_cliente][top_similar_products].values[0]\n",
    "\n",
    "    return np.dot(rating,top_similarity) / np.sum(top_similarity)\n"
   ]
  },
  {
   "cell_type": "code",
   "execution_count": 57,
   "metadata": {},
   "outputs": [
    {
     "data": {
      "text/plain": [
       "np.float64(2.572506506871034)"
      ]
     },
     "execution_count": 57,
     "metadata": {},
     "output_type": "execute_result"
    }
   ],
   "source": [
    "rating_new_product(rating_cliente_df, product_similarity_df, 'Disvisas', '564160')"
   ]
  },
  {
   "cell_type": "markdown",
   "metadata": {},
   "source": [
    "### Cluster based recommendation"
   ]
  },
  {
   "cell_type": "code",
   "execution_count": 96,
   "metadata": {},
   "outputs": [
    {
     "data": {
      "text/plain": [
       "'OTRO-Rural-Poco Transaccional'"
      ]
     },
     "execution_count": 96,
     "metadata": {},
     "output_type": "execute_result"
    }
   ],
   "source": [
    "info_cliente.loc[info_cliente.ID_CLIENTE=='553052'].CLUSTER.values[0]"
   ]
  },
  {
   "cell_type": "code",
   "execution_count": 115,
   "metadata": {},
   "outputs": [
    {
     "data": {
      "text/plain": [
       "np.float64(4.540106951871658)"
      ]
     },
     "execution_count": 115,
     "metadata": {},
     "output_type": "execute_result"
    }
   ],
   "source": [
    "cluster_rating.loc[cluster_rating.CLUSTER=='OTRO-Rural-Poco Transaccional']['Disvisas'].values[0]"
   ]
  },
  {
   "cell_type": "code",
   "execution_count": 113,
   "metadata": {},
   "outputs": [
    {
     "data": {
      "text/plain": [
       "False"
      ]
     },
     "execution_count": 113,
     "metadata": {},
     "output_type": "execute_result"
    }
   ],
   "source": [
    "'458171' not in list(info_cliente.ID_CLIENTE.values)"
   ]
  },
  {
   "cell_type": "code",
   "execution_count": 147,
   "metadata": {},
   "outputs": [],
   "source": [
    "def get_df_cluster_rating(id_cliente:str, producto:str, df_info_cliente, df_cluster_rating):\n",
    "\n",
    "    if id_cliente not in list(df_info_cliente.ID_CLIENTE.values):\n",
    "        return 0  # No cluster information\n",
    "    \n",
    "    cluster = df_info_cliente.loc[df_info_cliente.ID_CLIENTE==id_cliente].CLUSTER.values[0]\n",
    "\n",
    "    rating = df_cluster_rating.loc[df_cluster_rating.CLUSTER==cluster][producto].values[0]\n",
    "\n",
    "    return (rating)\n",
    "    "
   ]
  },
  {
   "cell_type": "code",
   "execution_count": 148,
   "metadata": {},
   "outputs": [
    {
     "data": {
      "text/plain": [
       "np.float64(5.333333333333333)"
      ]
     },
     "execution_count": 148,
     "metadata": {},
     "output_type": "execute_result"
    }
   ],
   "source": [
    "(get_df_cluster_rating('458171','Disvisas', info_cliente, cluster_rating))"
   ]
  },
  {
   "cell_type": "markdown",
   "metadata": {},
   "source": [
    "### Final rating"
   ]
  },
  {
   "cell_type": "code",
   "execution_count": null,
   "metadata": {},
   "outputs": [],
   "source": [
    "rating_new_product()"
   ]
  },
  {
   "cell_type": "code",
   "execution_count": 166,
   "metadata": {},
   "outputs": [],
   "source": [
    "def compute_final_rating(customer_id, product_id, product_similarity_df, rating_cliente_df, df_info_cliente, df_cluster_rating):\n",
    "    \"\"\"\n",
    "    Compute final rating by combining collaborative filtering and cluster-based recommendations.\n",
    "    \"\"\"\n",
    "    pred_rating = rating_new_product(rating_cliente_df, product_similarity_df, product_id, customer_id)\n",
    "    cluster_rating = get_df_cluster_rating(customer_id, product_id, df_info_cliente, df_cluster_rating)\n",
    "\n",
    "    # Dynamic weighting\n",
    "    num_rated_products = sum(rating_cliente_df.loc[rating_cliente_df.ID_CLIENTE==customer_id].values[0][1:] != 0)\n",
    "    alpha = min(0.3 + (num_rated_products / 100), 1)  # Adjust alpha based on customer data\n",
    "    beta = 1 - alpha  # Ensure weights sum to 1\n",
    "\n",
    "    return alpha * pred_rating + beta * cluster_rating"
   ]
  },
  {
   "cell_type": "code",
   "execution_count": 178,
   "metadata": {},
   "outputs": [
    {
     "data": {
      "text/plain": [
       "np.float64(4.307928648095074)"
      ]
     },
     "execution_count": 178,
     "metadata": {},
     "output_type": "execute_result"
    }
   ],
   "source": [
    "compute_final_rating(\n",
    "    '563528',\n",
    "    'Depósitos Monetarios Dólares',\n",
    "    product_similarity_df,\n",
    "    rating_cliente_df,\n",
    "    info_cliente,\n",
    "    cluster_rating\n",
    ")"
   ]
  }
 ],
 "metadata": {
  "kernelspec": {
   "display_name": ".venv",
   "language": "python",
   "name": "python3"
  },
  "language_info": {
   "codemirror_mode": {
    "name": "ipython",
    "version": 3
   },
   "file_extension": ".py",
   "mimetype": "text/x-python",
   "name": "python",
   "nbconvert_exporter": "python",
   "pygments_lexer": "ipython3",
   "version": "3.11.3"
  }
 },
 "nbformat": 4,
 "nbformat_minor": 2
}
